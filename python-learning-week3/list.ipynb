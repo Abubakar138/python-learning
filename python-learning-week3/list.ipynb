{
 "cells": [
  {
   "cell_type": "code",
   "execution_count": 13,
   "metadata": {},
   "outputs": [
    {
     "name": "stdout",
     "output_type": "stream",
     "text": [
      "Abubakar\n",
      "mango\n",
      "['mango', 'banana']\n",
      "['cherry']\n"
     ]
    }
   ],
   "source": [
    "print(\"Abubakar\")\n",
    "\n",
    "fruit:list = ['apple', 'mango', 'banana', 'cherry']\n",
    "\n",
    "print(fruit[1])\n",
    "\n",
    "print(fruit[1:-1])\n",
    "\n",
    "print(fruit[-1:])"
   ]
  },
  {
   "cell_type": "code",
   "execution_count": 14,
   "metadata": {},
   "outputs": [
    {
     "data": {
      "text/plain": [
       "['apple', 'mango', 'banana', 'cherry', 'Almond']"
      ]
     },
     "execution_count": 14,
     "metadata": {},
     "output_type": "execute_result"
    }
   ],
   "source": [
    "fruit.append('Almond')\n",
    "\n",
    "fruit"
   ]
  }
 ],
 "metadata": {
  "kernelspec": {
   "display_name": "Python 3",
   "language": "python",
   "name": "python3"
  },
  "language_info": {
   "codemirror_mode": {
    "name": "ipython",
    "version": 3
   },
   "file_extension": ".py",
   "mimetype": "text/x-python",
   "name": "python",
   "nbconvert_exporter": "python",
   "pygments_lexer": "ipython3",
   "version": "3.12.4"
  }
 },
 "nbformat": 4,
 "nbformat_minor": 2
}
